{
  "cells": [
    {
      "cell_type": "markdown",
      "id": "d06a172b",
      "metadata": {
        "id": "d06a172b",
        "papermill": {
          "duration": 0.008083,
          "end_time": "2023-04-26T13:37:57.180683",
          "exception": false,
          "start_time": "2023-04-26T13:37:57.172600",
          "status": "completed"
        },
        "tags": []
      },
      "source": [
        "# Import Necessary Libraries"
      ]
    },
    {
      "cell_type": "code",
      "execution_count": null,
      "id": "33494243",
      "metadata": {
        "execution": {
          "iopub.execute_input": "2023-04-26T13:37:57.199781Z",
          "iopub.status.busy": "2023-04-26T13:37:57.198814Z",
          "iopub.status.idle": "2023-04-26T13:38:05.320832Z",
          "shell.execute_reply": "2023-04-26T13:38:05.319719Z"
        },
        "id": "33494243",
        "papermill": {
          "duration": 8.134578,
          "end_time": "2023-04-26T13:38:05.323525",
          "exception": false,
          "start_time": "2023-04-26T13:37:57.188947",
          "status": "completed"
        },
        "tags": []
      },
      "outputs": [],
      "source": [
        "# Import Data Science Libraries\n",
        "import numpy as np\n",
        "import pandas as pd\n",
        "import tensorflow as tf\n",
        "from sklearn.model_selection import train_test_split\n",
        "import itertools\n",
        "import random\n",
        "\n",
        "# Import visualization libraries\n",
        "import matplotlib.pyplot as plt\n",
        "import matplotlib.cm as cm\n",
        "import cv2\n",
        "import seaborn as sns\n",
        "sns.set_style('darkgrid')\n",
        "# keras\n",
        "from keras.layers import Dense, Flatten, Conv2D, MaxPooling2D, GlobalAveragePooling2D\n",
        "# Tensorflow Libraries\n",
        "from tensorflow import keras\n",
        "from tensorflow.keras import layers,models\n",
        "from tensorflow.keras.preprocessing.image import ImageDataGenerator\n",
        "from tensorflow.keras.layers import Dense, Dropout, BatchNormalization\n",
        "from tensorflow.keras.callbacks import Callback, EarlyStopping,ModelCheckpoint, ReduceLROnPlateau\n",
        "from tensorflow.keras import Model\n",
        "from tensorflow.keras.layers import Resizing, Rescaling, RandomFlip, RandomRotation, RandomZoom, RandomContrast\n",
        "from tensorflow.keras.optimizers import Adam\n",
        "\n",
        "# System libraries\n",
        "from pathlib import Path\n",
        "import os.path\n",
        "\n",
        "# Metrics\n",
        "from sklearn.metrics import classification_report, confusion_matrix\n",
        "\n"
      ]
    },
    {
      "cell_type": "markdown",
      "id": "655ff4c1",
      "metadata": {
        "id": "655ff4c1",
        "papermill": {
          "duration": 0.008318,
          "end_time": "2023-04-26T13:38:08.077368",
          "exception": false,
          "start_time": "2023-04-26T13:38:08.069050",
          "status": "completed"
        },
        "tags": []
      },
      "source": [
        "# Create helper functions"
      ]
    },
    {
      "cell_type": "code",
      "execution_count": null,
      "id": "4789735a",
      "metadata": {
        "_kg_hide-output": true,
        "execution": {
          "iopub.execute_input": "2023-04-26T13:38:08.095663Z",
          "iopub.status.busy": "2023-04-26T13:38:08.095328Z",
          "iopub.status.idle": "2023-04-26T13:38:09.234229Z",
          "shell.execute_reply": "2023-04-26T13:38:09.233098Z"
        },
        "id": "4789735a",
        "papermill": {
          "duration": 1.150785,
          "end_time": "2023-04-26T13:38:09.236591",
          "exception": false,
          "start_time": "2023-04-26T13:38:08.085806",
          "status": "completed"
        },
        "tags": []
      },
      "outputs": [],
      "source": [
        "!wget https://raw.githubusercontent.com/mrdbourke/tensorflow-deep-learning/main/extras/helper_functions.py\n",
        "from helper_functions import create_tensorboard_callback, plot_loss_curves, unzip_data, compare_historys, walk_through_dir, pred_and_plot"
      ]
    },
    {
      "cell_type": "code",
      "execution_count": null,
      "id": "QDStmb2-51Ey",
      "metadata": {
        "id": "QDStmb2-51Ey"
      },
      "outputs": [],
      "source": [
        "def seed_everything(seed=42):\n",
        "    tf.random.set_seed(seed)\n",
        "    np.random.seed(seed)\n",
        "    random.seed(seed)\n",
        "seed_everything()"
      ]
    },
    {
      "cell_type": "markdown",
      "id": "aa50565a",
      "metadata": {
        "id": "aa50565a",
        "papermill": {
          "duration": 0.00848,
          "end_time": "2023-04-26T13:38:09.253943",
          "exception": false,
          "start_time": "2023-04-26T13:38:09.245463",
          "status": "completed"
        },
        "tags": []
      },
      "source": [
        "# Load and Transform Data"
      ]
    },
    {
      "cell_type": "code",
      "execution_count": null,
      "id": "82d4b22e",
      "metadata": {
        "execution": {
          "iopub.execute_input": "2023-04-26T13:38:09.298637Z",
          "iopub.status.busy": "2023-04-26T13:38:09.297684Z",
          "iopub.status.idle": "2023-04-26T13:38:09.414226Z",
          "shell.execute_reply": "2023-04-26T13:38:09.413054Z"
        },
        "id": "82d4b22e",
        "papermill": {
          "duration": 0.128625,
          "end_time": "2023-04-26T13:38:09.416774",
          "exception": false,
          "start_time": "2023-04-26T13:38:09.288149",
          "status": "completed"
        },
        "tags": []
      },
      "outputs": [],
      "source": [
        "dataset = \" \" #Enter the path for the dataset\n",
        "walk_through_dir(dataset)\n",
        "BATCH_SIZE = 32\n",
        "TARGET_SIZE = (224, 224)"
      ]
    },
    {
      "cell_type": "markdown",
      "id": "d50fe839",
      "metadata": {
        "id": "d50fe839",
        "papermill": {
          "duration": 0.008417,
          "end_time": "2023-04-26T13:38:09.433985",
          "exception": false,
          "start_time": "2023-04-26T13:38:09.425568",
          "status": "completed"
        },
        "tags": []
      },
      "source": [
        "# Dataframe Creation\n"
      ]
    },
    {
      "cell_type": "code",
      "execution_count": null,
      "id": "5e338de9",
      "metadata": {
        "colab": {
          "base_uri": "https://localhost:8080/",
          "height": 53
        },
        "execution": {
          "iopub.execute_input": "2023-04-26T13:38:09.452493Z",
          "iopub.status.busy": "2023-04-26T13:38:09.452210Z",
          "iopub.status.idle": "2023-04-26T13:38:09.500906Z",
          "shell.execute_reply": "2023-04-26T13:38:09.499988Z"
        },
        "id": "5e338de9",
        "outputId": "ddfa4c31-2216-4489-ec8b-cf7a69c04d79",
        "papermill": {
          "duration": 0.060266,
          "end_time": "2023-04-26T13:38:09.503008",
          "exception": false,
          "start_time": "2023-04-26T13:38:09.442742",
          "status": "completed"
        },
        "tags": []
      },
      "outputs": [
        {
          "data": {
            "application/vnd.google.colaboratory.intrinsic+json": {
              "repr_error": "Out of range float values are not JSON compliant: nan",
              "type": "dataframe",
              "variable_name": "image_df"
            },
            "text/html": [
              "\n",
              "  <div id=\"df-8bfbda40-a343-4dd5-87bd-f555cb3c84bd\" class=\"colab-df-container\">\n",
              "    <div>\n",
              "<style scoped>\n",
              "    .dataframe tbody tr th:only-of-type {\n",
              "        vertical-align: middle;\n",
              "    }\n",
              "\n",
              "    .dataframe tbody tr th {\n",
              "        vertical-align: top;\n",
              "    }\n",
              "\n",
              "    .dataframe thead th {\n",
              "        text-align: right;\n",
              "    }\n",
              "</style>\n",
              "<table border=\"1\" class=\"dataframe\">\n",
              "  <thead>\n",
              "    <tr style=\"text-align: right;\">\n",
              "      <th></th>\n",
              "      <th>Filepath</th>\n",
              "      <th>Label</th>\n",
              "    </tr>\n",
              "  </thead>\n",
              "  <tbody>\n",
              "  </tbody>\n",
              "</table>\n",
              "</div>\n",
              "    <div class=\"colab-df-buttons\">\n",
              "\n",
              "  <div class=\"colab-df-container\">\n",
              "    <button class=\"colab-df-convert\" onclick=\"convertToInteractive('df-8bfbda40-a343-4dd5-87bd-f555cb3c84bd')\"\n",
              "            title=\"Convert this dataframe to an interactive table.\"\n",
              "            style=\"display:none;\">\n",
              "\n",
              "  <svg xmlns=\"http://www.w3.org/2000/svg\" height=\"24px\" viewBox=\"0 -960 960 960\">\n",
              "    <path d=\"M120-120v-720h720v720H120Zm60-500h600v-160H180v160Zm220 220h160v-160H400v160Zm0 220h160v-160H400v160ZM180-400h160v-160H180v160Zm440 0h160v-160H620v160ZM180-180h160v-160H180v160Zm440 0h160v-160H620v160Z\"/>\n",
              "  </svg>\n",
              "    </button>\n",
              "\n",
              "  <style>\n",
              "    .colab-df-container {\n",
              "      display:flex;\n",
              "      gap: 12px;\n",
              "    }\n",
              "\n",
              "    .colab-df-convert {\n",
              "      background-color: #E8F0FE;\n",
              "      border: none;\n",
              "      border-radius: 50%;\n",
              "      cursor: pointer;\n",
              "      display: none;\n",
              "      fill: #1967D2;\n",
              "      height: 32px;\n",
              "      padding: 0 0 0 0;\n",
              "      width: 32px;\n",
              "    }\n",
              "\n",
              "    .colab-df-convert:hover {\n",
              "      background-color: #E2EBFA;\n",
              "      box-shadow: 0px 1px 2px rgba(60, 64, 67, 0.3), 0px 1px 3px 1px rgba(60, 64, 67, 0.15);\n",
              "      fill: #174EA6;\n",
              "    }\n",
              "\n",
              "    .colab-df-buttons div {\n",
              "      margin-bottom: 4px;\n",
              "    }\n",
              "\n",
              "    [theme=dark] .colab-df-convert {\n",
              "      background-color: #3B4455;\n",
              "      fill: #D2E3FC;\n",
              "    }\n",
              "\n",
              "    [theme=dark] .colab-df-convert:hover {\n",
              "      background-color: #434B5C;\n",
              "      box-shadow: 0px 1px 3px 1px rgba(0, 0, 0, 0.15);\n",
              "      filter: drop-shadow(0px 1px 2px rgba(0, 0, 0, 0.3));\n",
              "      fill: #FFFFFF;\n",
              "    }\n",
              "  </style>\n",
              "\n",
              "    <script>\n",
              "      const buttonEl =\n",
              "        document.querySelector('#df-8bfbda40-a343-4dd5-87bd-f555cb3c84bd button.colab-df-convert');\n",
              "      buttonEl.style.display =\n",
              "        google.colab.kernel.accessAllowed ? 'block' : 'none';\n",
              "\n",
              "      async function convertToInteractive(key) {\n",
              "        const element = document.querySelector('#df-8bfbda40-a343-4dd5-87bd-f555cb3c84bd');\n",
              "        const dataTable =\n",
              "          await google.colab.kernel.invokeFunction('convertToInteractive',\n",
              "                                                    [key], {});\n",
              "        if (!dataTable) return;\n",
              "\n",
              "        const docLinkHtml = 'Like what you see? Visit the ' +\n",
              "          '<a target=\"_blank\" href=https://colab.research.google.com/notebooks/data_table.ipynb>data table notebook</a>'\n",
              "          + ' to learn more about interactive tables.';\n",
              "        element.innerHTML = '';\n",
              "        dataTable['output_type'] = 'display_data';\n",
              "        await google.colab.output.renderOutput(dataTable, element);\n",
              "        const docLink = document.createElement('div');\n",
              "        docLink.innerHTML = docLinkHtml;\n",
              "        element.appendChild(docLink);\n",
              "      }\n",
              "    </script>\n",
              "  </div>\n",
              "\n",
              "\n",
              "    </div>\n",
              "  </div>\n"
            ],
            "text/plain": [
              "Empty DataFrame\n",
              "Columns: [Filepath, Label]\n",
              "Index: []"
            ]
          },
          "execution_count": 6,
          "metadata": {},
          "output_type": "execute_result"
        }
      ],
      "source": [
        "def convert_path_to_df(dataset):\n",
        "    image_dir = Path(dataset)\n",
        "\n",
        "    # Get filepaths and labels\n",
        "    filepaths = list(image_dir.glob(r'**/*.JPG')) + list(image_dir.glob(r'**/*.jpg')) + list(image_dir.glob(r'**/*.jpeg')) + list(image_dir.glob(r'**/*.PNG'))\n",
        "\n",
        "    labels = list(map(lambda x: os.path.split(os.path.split(x)[0])[1], filepaths))\n",
        "\n",
        "    filepaths = pd.Series(filepaths, name='Filepath').astype(str)\n",
        "    labels = pd.Series(labels, name='Label')\n",
        "\n",
        "    # Concatenate filepaths and labels\n",
        "    image_df = pd.concat([filepaths, labels], axis=1)\n",
        "    return image_df\n",
        "\n",
        "image_df = convert_path_to_df(dataset)\n",
        "image_df.head()"
      ]
    },
    {
      "cell_type": "markdown",
      "id": "GBqz8QIDAstS",
      "metadata": {
        "id": "GBqz8QIDAstS"
      },
      "source": [
        "# Data Visualization"
      ]
    },
    {
      "cell_type": "code",
      "execution_count": null,
      "id": "35ded140",
      "metadata": {
        "execution": {
          "iopub.execute_input": "2023-04-26T13:38:12.527649Z",
          "iopub.status.busy": "2023-04-26T13:38:12.527323Z",
          "iopub.status.idle": "2023-04-26T13:38:12.879470Z",
          "shell.execute_reply": "2023-04-26T13:38:12.878506Z"
        },
        "id": "35ded140",
        "papermill": {
          "duration": 0.364242,
          "end_time": "2023-04-26T13:38:12.881843",
          "exception": false,
          "start_time": "2023-04-26T13:38:12.517601",
          "status": "completed"
        },
        "tags": []
      },
      "outputs": [],
      "source": [
        "label_counts = image_df['Label'].value_counts()\n",
        "fig, axes = plt.subplots(nrows=1, ncols=2, figsize=(20, 6))\n",
        "\n",
        "colors = sns.color_palette('pastel', len(label_counts))\n",
        "\n",
        "# Plot the pie chart\n",
        "explode = [0.02] * len(label_counts)  # Define separation values for each pie slice\n",
        "axes[0].pie(label_counts.values, labels=label_counts.index, autopct='%1.1f%%', startangle=90, colors=colors, explode=explode)\n",
        "axes[0].axis('equal')\n",
        "axes[0].set_title('Percentage Distribution of Labels in Image Dataset', fontsize=16)\n",
        "\n",
        "# Plot the bar chart\n",
        "sns.barplot(x=label_counts.index, y=label_counts.values, alpha=0.8, palette='pastel', ax=axes[1])\n",
        "axes[1].set_title('Count Distribution of Labels in Image Dataset', fontsize=16)\n",
        "axes[1].set_xlabel('Label', fontsize=14)\n",
        "axes[1].set_ylabel('Count', fontsize=14)\n",
        "axes[1].set_xticklabels(label_counts.index, rotation=45)\n",
        "fig.suptitle('Image Dataset Label Distribution', fontsize=20)\n",
        "fig.subplots_adjust(top=0.85)\n",
        "\n",
        "# Display the plots\n",
        "plt.show()\n"
      ]
    },
    {
      "cell_type": "code",
      "execution_count": null,
      "id": "DWVDuNKcRe2z",
      "metadata": {
        "id": "DWVDuNKcRe2z"
      },
      "outputs": [],
      "source": [
        "import imageio\n",
        "import cv2\n",
        "import numpy as np\n",
        "\n",
        "def compute_ela_cv(path, quality):\n",
        "    \"\"\"\n",
        "    Performs Error Level Analysis on an image using OpenCV.\n",
        "\n",
        "    Args:\n",
        "    path: Path to the input image.\n",
        "    quality: JPEG compression quality (0-100).\n",
        "\n",
        "    Returns:\n",
        "    ELA image as a NumPy array.\n",
        "    \"\"\"\n",
        "    # Save the image with specified quality\n",
        "    filename = 'temp.jpg'\n",
        "    cv2.imwrite(filename, cv2.imread(path), [int(cv2.IMWRITE_JPEG_QUALITY), quality])\n",
        "\n",
        "    # Reload the saved image\n",
        "    resaved_im = cv2.imread(filename)\n",
        "\n",
        "    # Calculate ELA\n",
        "    ela_im = cv2.absdiff(cv2.cvtColor(cv2.imread(path), cv2.COLOR_BGR2RGB), cv2.cvtColor(resaved_im, cv2.COLOR_BGR2RGB))\n",
        "\n",
        "    # Scale ELA values for better visualization\n",
        "    ela_im = ela_im.astype(np.uint8)  # Convert to 8-bit unsigned integer\n",
        "    ela_im = cv2.cvtColor(ela_im, cv2.COLOR_BGR2GRAY)  # Convert to grayscale for single channel\n",
        "    ela_im = cv2.cvtColor(ela_im, cv2.COLOR_GRAY2RGB)  # Convert back to RGB\n",
        "    ela_im = ela_im / np.max(ela_im)  # Normalize values to 0-1 range\n",
        "\n",
        "    return ela_im"
      ]
    },
    {
      "cell_type": "code",
      "execution_count": null,
      "id": "7ea42509",
      "metadata": {
        "execution": {
          "iopub.execute_input": "2023-04-26T13:38:14.344561Z",
          "iopub.status.busy": "2023-04-26T13:38:14.344242Z",
          "iopub.status.idle": "2023-04-26T13:38:16.293143Z",
          "shell.execute_reply": "2023-04-26T13:38:16.291784Z"
        },
        "id": "7ea42509",
        "papermill": {
          "duration": 2.011568,
          "end_time": "2023-04-26T13:38:16.320242",
          "exception": false,
          "start_time": "2023-04-26T13:38:14.308674",
          "status": "completed"
        },
        "tags": []
      },
      "outputs": [],
      "source": [
        "# View random grid sample from the dataset\n",
        "def random_sample(path, extension=None):\n",
        "    if extension:\n",
        "        items = Path(path).glob(f'*.{extension}')\n",
        "    else:\n",
        "        items = Path(path).glob(f'*')\n",
        "\n",
        "    items = list(items)\n",
        "\n",
        "    p = random.choice(items)\n",
        "    return p.as_posix()\n",
        "p = random_sample('/content/drive/MyDrive/BMS_Hackthon/DataSet/bleached_corals')\n",
        "orig = cv2.imread(p)\n",
        "orig = cv2.cvtColor(orig, cv2.COLOR_BGR2RGB) / 255.0\n",
        "init_val = 100\n",
        "columns = 3\n",
        "rows = 3\n",
        "\n",
        "fig=plt.figure(figsize=(15, 10))\n",
        "for i in range(1, columns*rows +1):\n",
        "    quality=init_val - (i-1) * 8\n",
        "    img = compute_ela_cv(path=p, quality=quality)\n",
        "    if i == 1:\n",
        "        img = orig.copy()\n",
        "    ax = fig.add_subplot(rows, columns, i)\n",
        "    ax.title.set_text(f'q: {quality}')\n",
        "    plt.imshow(img)\n",
        "plt.show()"
      ]
    },
    {
      "cell_type": "markdown",
      "id": "c5e7e63b",
      "metadata": {
        "id": "c5e7e63b",
        "papermill": {
          "duration": 0.073777,
          "end_time": "2023-04-26T13:38:16.467987",
          "exception": false,
          "start_time": "2023-04-26T13:38:16.394210",
          "status": "completed"
        },
        "tags": []
      },
      "source": [
        "# Data Preprocessing\n"
      ]
    },
    {
      "cell_type": "code",
      "execution_count": null,
      "id": "1e408ad6",
      "metadata": {
        "execution": {
          "iopub.execute_input": "2023-04-26T13:38:16.615442Z",
          "iopub.status.busy": "2023-04-26T13:38:16.615085Z",
          "iopub.status.idle": "2023-04-26T13:38:16.622800Z",
          "shell.execute_reply": "2023-04-26T13:38:16.621765Z"
        },
        "id": "1e408ad6",
        "papermill": {
          "duration": 0.085342,
          "end_time": "2023-04-26T13:38:16.625003",
          "exception": false,
          "start_time": "2023-04-26T13:38:16.539661",
          "status": "completed"
        },
        "tags": []
      },
      "outputs": [],
      "source": [
        "# Split the data \n",
        "train_df, test_df = train_test_split(image_df, test_size=0.2, shuffle=True, random_state=1)"
      ]
    },
    {
      "cell_type": "code",
      "execution_count": null,
      "id": "3c0623ee",
      "metadata": {
        "execution": {
          "iopub.execute_input": "2023-04-26T13:38:16.773588Z",
          "iopub.status.busy": "2023-04-26T13:38:16.772379Z",
          "iopub.status.idle": "2023-04-26T13:38:16.778427Z",
          "shell.execute_reply": "2023-04-26T13:38:16.777550Z"
        },
        "id": "3c0623ee",
        "papermill": {
          "duration": 0.082841,
          "end_time": "2023-04-26T13:38:16.780597",
          "exception": false,
          "start_time": "2023-04-26T13:38:16.697756",
          "status": "completed"
        },
        "tags": []
      },
      "outputs": [],
      "source": [
        "train_generator = ImageDataGenerator(\n",
        "    preprocessing_function=tf.keras.applications.vgg19.preprocess_input,\n",
        "    validation_split=0.2\n",
        ")\n",
        "\n",
        "test_generator = ImageDataGenerator(\n",
        "    preprocessing_function=tf.keras.applications.vgg19.preprocess_input\n",
        ")"
      ]
    },
    {
      "cell_type": "code",
      "execution_count": null,
      "id": "1528c191",
      "metadata": {
        "execution": {
          "iopub.execute_input": "2023-04-26T13:38:16.928644Z",
          "iopub.status.busy": "2023-04-26T13:38:16.927917Z",
          "iopub.status.idle": "2023-04-26T13:38:17.449079Z",
          "shell.execute_reply": "2023-04-26T13:38:17.448139Z"
        },
        "id": "1528c191",
        "papermill": {
          "duration": 0.598893,
          "end_time": "2023-04-26T13:38:17.451214",
          "exception": false,
          "start_time": "2023-04-26T13:38:16.852321",
          "status": "completed"
        },
        "tags": []
      },
      "outputs": [],
      "source": [
        "\n",
        "train_images = train_generator.flow_from_dataframe(\n",
        "    dataframe=train_df,\n",
        "    x_col='Filepath',\n",
        "    y_col='Label',\n",
        "    target_size=TARGET_SIZE,\n",
        "    color_mode='rgb',\n",
        "    class_mode='categorical',\n",
        "    batch_size=BATCH_SIZE,\n",
        "    shuffle=True,\n",
        "    seed=42,\n",
        "    subset='training'\n",
        ")\n",
        "\n",
        "val_images = train_generator.flow_from_dataframe(\n",
        "    dataframe=train_df,\n",
        "    x_col='Filepath',\n",
        "    y_col='Label',\n",
        "    target_size=TARGET_SIZE,\n",
        "    color_mode='rgb',\n",
        "    class_mode='categorical',\n",
        "    batch_size=BATCH_SIZE,\n",
        "    shuffle=True,\n",
        "    seed=42,\n",
        "    subset='validation'\n",
        ")\n",
        "\n",
        "test_images = test_generator.flow_from_dataframe(\n",
        "    dataframe=test_df,\n",
        "    x_col='Filepath',\n",
        "    y_col='Label',\n",
        "    target_size=TARGET_SIZE,\n",
        "    color_mode='rgb',\n",
        "    class_mode='categorical',\n",
        "    batch_size=BATCH_SIZE,\n",
        "    shuffle=False\n",
        ")"
      ]
    },
    {
      "cell_type": "code",
      "execution_count": null,
      "id": "95d4328d",
      "metadata": {
        "_kg_hide-output": true,
        "execution": {
          "iopub.execute_input": "2023-04-26T13:38:17.612156Z",
          "iopub.status.busy": "2023-04-26T13:38:17.611507Z",
          "iopub.status.idle": "2023-04-26T13:38:18.028418Z",
          "shell.execute_reply": "2023-04-26T13:38:18.027313Z"
        },
        "id": "95d4328d",
        "papermill": {
          "duration": 0.504813,
          "end_time": "2023-04-26T13:38:18.031060",
          "exception": false,
          "start_time": "2023-04-26T13:38:17.526247",
          "status": "completed"
        },
        "tags": []
      },
      "outputs": [],
      "source": [
        "# Data Augmentation\n",
        "augment = tf.keras.Sequential([\n",
        "  Resizing(224,224),\n",
        "  Rescaling(1./255),\n",
        "  RandomFlip(\"horizontal\"),\n",
        "  RandomRotation(0.1),\n",
        "  RandomZoom(0.1),\n",
        "  RandomContrast(0.1),\n",
        "])"
      ]
    },
    {
      "cell_type": "markdown",
      "id": "2729ddb1",
      "metadata": {
        "id": "2729ddb1",
        "papermill": {
          "duration": 0.072841,
          "end_time": "2023-04-26T13:38:18.179166",
          "exception": false,
          "start_time": "2023-04-26T13:38:18.106325",
          "status": "completed"
        },
        "tags": []
      },
      "source": [
        "# Training\n",
        "\n",
        "\n",
        "\n"
      ]
    },
    {
      "cell_type": "code",
      "execution_count": null,
      "id": "ea5efa83",
      "metadata": {
        "execution": {
          "iopub.execute_input": "2023-04-26T13:38:18.324702Z",
          "iopub.status.busy": "2023-04-26T13:38:18.322619Z",
          "iopub.status.idle": "2023-04-26T13:38:19.406408Z",
          "shell.execute_reply": "2023-04-26T13:38:19.405335Z"
        },
        "id": "ea5efa83",
        "papermill": {
          "duration": 1.158553,
          "end_time": "2023-04-26T13:38:19.408948",
          "exception": false,
          "start_time": "2023-04-26T13:38:18.250395",
          "status": "completed"
        },
        "tags": []
      },
      "outputs": [],
      "source": [
        "# Load the ImageNET\n",
        "base_model = tf.keras.applications.vgg19.VGG19(\n",
        "    input_shape=(224, 224, 3),\n",
        "    include_top=False,\n",
        "    weights='imagenet',\n",
        "    pooling='max'\n",
        ")\n",
        "# Freezes the pre-trained layers.\n",
        "base_model.trainable = False"
      ]
    },
    {
      "cell_type": "code",
      "execution_count": null,
      "id": "0bad0413",
      "metadata": {
        "_kg_hide-output": true,
        "execution": {
          "iopub.execute_input": "2023-04-26T13:38:19.864162Z",
          "iopub.status.busy": "2023-04-26T13:38:19.863251Z",
          "iopub.status.idle": "2023-04-26T13:39:20.080406Z",
          "shell.execute_reply": "2023-04-26T13:39:20.079173Z"
        },
        "id": "0bad0413",
        "papermill": {
          "duration": 60.378438,
          "end_time": "2023-04-26T13:39:20.166575",
          "exception": false,
          "start_time": "2023-04-26T13:38:19.788137",
          "status": "completed"
        },
        "tags": []
      },
      "outputs": [],
      "source": [
        "inputs = base_model.input\n",
        "x = augment(inputs)\n",
        "x = Dense(128, activation='relu')(base_model.output)\n",
        "x = BatchNormalization()(x)\n",
        "x = Dropout(0.45)(x)\n",
        "x = Dense(256, activation='relu')(x)\n",
        "x = BatchNormalization()(x)\n",
        "x = Dropout(0.45)(x)\n",
        "outputs = Dense(2, activation='softmax')(x)\n",
        "\n",
        "model = keras.Model(inputs=inputs, outputs=outputs)\n",
        "\n",
        "model.summary()"
      ]
    },
    {
      "cell_type": "code",
      "execution_count": null,
      "id": "ElkMxB0YH4VJ",
      "metadata": {
        "id": "ElkMxB0YH4VJ"
      },
      "outputs": [],
      "source": [
        "# EarlyStopping callback \n",
        "early_stopping = EarlyStopping(\n",
        "    monitor='val_loss',      \n",
        "    patience=3,               \n",
        "    restore_best_weights=True \n",
        ")\n",
        "# Create checkpoint callback\n",
        "checkpoint_path = \" \"  #Path for weights directory\n",
        "checkpoint_callback =ModelCheckpoint(checkpoint_path,\n",
        "                             monitor='val_loss',\n",
        "                             save_best_only=True,\n",
        "                             save_weights_only=False, \n",
        "                             mode='min',\n",
        "                             verbose=1)\n",
        "\n",
        "\n",
        "reduce_lr = ReduceLROnPlateau(monitor='val_loss', factor=0.2, patience=3, min_lr=1e-10)\n",
        "model.compile(optimizer=Adam(0.001),loss='categorical_crossentropy',metrics=['accuracy']\n",
        ")\n",
        "\n",
        "history = model.fit(\n",
        "    train_images,\n",
        "    steps_per_epoch=len(train_images),\n",
        "    validation_data=val_images,\n",
        "    epochs=15,\n",
        "    callbacks=[early_stopping,checkpoint_callback,reduce_lr]\n",
        ")\n",
        "#model finetuning\n",
        "for layer in base_model.layers[-10:]:\n",
        "    layer.trainable = True\n",
        "\n",
        "model.compile(optimizer=Adam(learning_rate=0.00001), loss='categorical_crossentropy', metrics=['accuracy']) \n",
        "fine_tuned_checkpoint = ModelCheckpoint(checkpoint_path,\n",
        "                                         monitor='val_loss',\n",
        "                                         save_best_only=True,\n",
        "                                         save_weights_only=False,\n",
        "                                         mode='min',\n",
        "                                         verbose=1,)\n",
        "fine_tuned_history = model.fit(\n",
        "    train_images,\n",
        "    epochs=10,\n",
        "    validation_data=val_images,\n",
        "    steps_per_epoch=len(train_images),\n",
        "    callbacks=[fine_tuned_checkpoint, early_stopping]\n",
        ")"
      ]
    },
    {
      "cell_type": "code",
      "execution_count": null,
      "id": "PLTab3ozTFng",
      "metadata": {
        "id": "PLTab3ozTFng"
      },
      "outputs": [],
      "source": [
        "# Save model hsitory\n",
        "import pickle\n",
        "history_path= \" \" # Path for histories directory\n",
        "with open(history_path, 'wb') as file:\n",
        "  pickle.dump(fine_tuned_history.history, file)\n",
        "print(\"Training history saved successfully!\")\n",
        "\n",
        "# Load the history\n",
        "history_file= \" \" # Path for saved history file\n",
        "with open(history_file, 'rb') as file:\n",
        "    loaded_history = pickle.load(file)\n",
        "print(\"Loaded history:\", loaded_history)"
      ]
    },
    {
      "cell_type": "code",
      "execution_count": null,
      "id": "hQV429kDLqA9",
      "metadata": {
        "id": "hQV429kDLqA9"
      },
      "outputs": [],
      "source": [
        "#LOAD Model\n",
        "model_path= \" \" # Path for saved model\n",
        "model= tf.keras.models.load_model(model_path)\n",
        "# Save the model in H5 fomat\n",
        "model.save(os.path.join(model_path,\"model.h5\"))"
      ]
    },
    {
      "cell_type": "markdown",
      "id": "7af404bf",
      "metadata": {
        "id": "7af404bf",
        "papermill": {
          "duration": 0.085723,
          "end_time": "2023-04-26T13:39:24.069615",
          "exception": false,
          "start_time": "2023-04-26T13:39:23.983892",
          "status": "completed"
        },
        "tags": []
      },
      "source": [
        "# Visualizing loss curves"
      ]
    },
    {
      "cell_type": "code",
      "execution_count": null,
      "id": "af39aa4d",
      "metadata": {
        "execution": {
          "iopub.execute_input": "2023-04-26T13:39:24.245873Z",
          "iopub.status.busy": "2023-04-26T13:39:24.244862Z",
          "iopub.status.idle": "2023-04-26T13:39:24.742800Z",
          "shell.execute_reply": "2023-04-26T13:39:24.741714Z"
        },
        "id": "af39aa4d",
        "papermill": {
          "duration": 0.589143,
          "end_time": "2023-04-26T13:39:24.745015",
          "exception": false,
          "start_time": "2023-04-26T13:39:24.155872",
          "status": "completed"
        },
        "tags": []
      },
      "outputs": [],
      "source": [
        "accuracy = history.history['accuracy']\n",
        "val_accuracy = history.history['val_accuracy']\n",
        "\n",
        "loss = history.history['loss']\n",
        "val_loss = history.history['val_loss']\n",
        "\n",
        "epochs = range(len(accuracy))\n",
        "\n",
        "fig, (ax1, ax2) = plt.subplots(1, 2, figsize=(12, 5))\n",
        "\n",
        "ax1.plot(epochs, accuracy, 'b', label='Training accuracy')\n",
        "ax1.plot(epochs, val_accuracy, 'r', label='Validation accuracy')\n",
        "ax1.set_title('Training and validation accuracy')\n",
        "ax1.set_xlabel('Epochs')\n",
        "ax1.set_ylabel('Accuracy')\n",
        "ax1.legend()\n",
        "\n",
        "ax2.plot(epochs, loss, 'b', label='Training loss')\n",
        "ax2.plot(epochs, val_loss, 'r', label='Validation loss')\n",
        "ax2.set_title('Training and validation loss')\n",
        "ax2.set_xlabel('Epochs')\n",
        "ax2.set_ylabel('Loss')\n",
        "ax2.legend()\n",
        "\n",
        "fig.suptitle('Training and validation metrics', fontsize=16)\n",
        "plt.show()"
      ]
    },
    {
      "cell_type": "markdown",
      "id": "2eb97dda",
      "metadata": {
        "id": "2eb97dda",
        "papermill": {
          "duration": 0.085769,
          "end_time": "2023-04-26T13:39:20.337675",
          "exception": false,
          "start_time": "2023-04-26T13:39:20.251906",
          "status": "completed"
        },
        "tags": []
      },
      "source": [
        "# Model Evaluation"
      ]
    },
    {
      "cell_type": "markdown",
      "id": "1V7OE4aYOwkV",
      "metadata": {
        "id": "1V7OE4aYOwkV"
      },
      "source": [
        "###  Making test predictions"
      ]
    },
    {
      "cell_type": "code",
      "execution_count": null,
      "id": "c6ab3712",
      "metadata": {
        "execution": {
          "iopub.execute_input": "2023-04-26T13:39:26.523025Z",
          "iopub.status.busy": "2023-04-26T13:39:26.522660Z",
          "iopub.status.idle": "2023-04-26T13:39:28.024629Z",
          "shell.execute_reply": "2023-04-26T13:39:28.023710Z"
        },
        "id": "c6ab3712",
        "papermill": {
          "duration": 1.627945,
          "end_time": "2023-04-26T13:39:28.057907",
          "exception": false,
          "start_time": "2023-04-26T13:39:26.429962",
          "status": "completed"
        },
        "tags": []
      },
      "outputs": [],
      "source": [
        "# Predict the label of the test_images\n",
        "pred = model.predict(test_images)\n",
        "pred = np.argmax(pred,axis=1)\n",
        "# Map the label\n",
        "labels = (train_images.class_indices)\n",
        "labels = dict((v,k) for k,v in labels.items())\n",
        "pred = [labels[k] for k in pred]\n",
        "# Display 25 random pictures from the dataset with their labels\n",
        "random_index = np.random.randint(0, len(test_df) - 1, 15)\n",
        "fig, axes = plt.subplots(nrows=3, ncols=5, figsize=(25, 15),\n",
        "                        subplot_kw={'xticks': [], 'yticks': []})\n",
        "\n",
        "for i, ax in enumerate(axes.flat):\n",
        "    ax.imshow(plt.imread(test_df.Filepath.iloc[random_index[i]]))\n",
        "    if test_df.Label.iloc[random_index[i]] == pred[random_index[i]]:\n",
        "        color = \"green\"\n",
        "    else:\n",
        "        color = \"red\"\n",
        "    ax.set_title(f\"True: {test_df.Label.iloc[random_index[i]]}\\nPredicted: {pred[random_index[i]]}\", color=color)\n",
        "plt.show()\n",
        "plt.tight_layout()"
      ]
    },
    {
      "cell_type": "markdown",
      "id": "zvKqizRTO4Tt",
      "metadata": {
        "id": "zvKqizRTO4Tt"
      },
      "source": [
        "### Model Performance"
      ]
    },
    {
      "cell_type": "code",
      "execution_count": null,
      "id": "219ccef4",
      "metadata": {
        "execution": {
          "iopub.execute_input": "2023-04-26T13:39:20.513965Z",
          "iopub.status.busy": "2023-04-26T13:39:20.513378Z",
          "iopub.status.idle": "2023-04-26T13:39:23.893567Z",
          "shell.execute_reply": "2023-04-26T13:39:23.891890Z"
        },
        "id": "219ccef4",
        "papermill": {
          "duration": 3.47192,
          "end_time": "2023-04-26T13:39:23.895795",
          "exception": false,
          "start_time": "2023-04-26T13:39:20.423875",
          "status": "completed"
        },
        "tags": []
      },
      "outputs": [],
      "source": [
        "from sklearn.metrics import classification_report, confusion_matrix, accuracy_score, f1_score, precision_score, recall_score\n",
        "from tqdm import tqdm\n",
        "# Evaluate ResNet50 model on the test set\n",
        "test_loss, test_accuracy = model.evaluate(test_images)\n",
        "print(f'Test loss: {test_loss}')\n",
        "print(f'Test accuracy: {test_accuracy}')\n",
        "\n",
        "test_preds = model.predict(test_images)\n",
        "test_preds = (test_preds > 0.5).astype(int)  # Use the built-in 'int'\n",
        "\n",
        "test_labels = test_images.classes\n",
        "\n",
        "print('Classification Report')\n",
        "print(classification_report(test_labels, test_preds, target_names=test_images.class_indices.keys()))\n",
        "\n",
        "print('Confusion Matrix')\n",
        "print(confusion_matrix(test_labels, test_preds))\n",
        "\n",
        "accuracy = accuracy_score(test_labels, test_preds)\n",
        "f1 = f1_score(test_labels, test_preds)\n",
        "precision = precision_score(test_labels, test_preds)\n",
        "recall = recall_score(test_labels, test_preds)\n",
        "\n",
        "print(f'Accuracy: {accuracy}')\n",
        "print(f'F1 score: {f1}')\n",
        "print(f'Precision: {precision}')\n",
        "print(f'Recall: {recall}')\n"
      ]
    },
    {
      "cell_type": "markdown",
      "id": "24838f13",
      "metadata": {
        "id": "24838f13",
        "papermill": {
          "duration": 0.139771,
          "end_time": "2023-04-26T13:39:28.337920",
          "exception": false,
          "start_time": "2023-04-26T13:39:28.198149",
          "status": "completed"
        },
        "tags": []
      },
      "source": [
        "### Confusion Matrix"
      ]
    },
    {
      "cell_type": "code",
      "execution_count": null,
      "id": "fffb3931",
      "metadata": {
        "execution": {
          "iopub.execute_input": "2023-04-26T13:39:28.623290Z",
          "iopub.status.busy": "2023-04-26T13:39:28.621402Z",
          "iopub.status.idle": "2023-04-26T13:39:28.635833Z",
          "shell.execute_reply": "2023-04-26T13:39:28.634698Z"
        },
        "id": "fffb3931",
        "papermill": {
          "duration": 0.160904,
          "end_time": "2023-04-26T13:39:28.638214",
          "exception": false,
          "start_time": "2023-04-26T13:39:28.477310",
          "status": "completed"
        },
        "tags": []
      },
      "outputs": [],
      "source": [
        "#Confusion Matrix\n",
        "def make_confusion_matrix(y_true, y_pred, classes=None, figsize=(15, 7), text_size=10, norm=False, savefig=False):\n",
        "  # Create the confustion matrix\n",
        "    cm = confusion_matrix(y_true, y_pred)\n",
        "    cm_norm = cm.astype(\"float\") / cm.sum(axis=1)[:, np.newaxis] # normalize it\n",
        "    n_classes = cm.shape[0] # find the number of classes we're dealing with\n",
        "\n",
        "    # Plot the figure and make it pretty\n",
        "    fig, ax = plt.subplots(figsize=figsize)\n",
        "    cax = ax.matshow(cm, cmap=plt.cm.Blues) # colors will represent how 'correct' a class is, darker == better\n",
        "    fig.colorbar(cax)\n",
        "\n",
        "    # Are there a list of classes?\n",
        "    if classes:\n",
        "        labels = classes\n",
        "    else:\n",
        "        labels = np.arange(cm.shape[0])\n",
        "\n",
        "    # Label the axes\n",
        "    ax.set(title=\"Confusion Matrix\",\n",
        "         xlabel=\"Predicted label\",\n",
        "         ylabel=\"True label\",\n",
        "         xticks=np.arange(n_classes), # create enough axis slots for each class\n",
        "         yticks=np.arange(n_classes),\n",
        "         xticklabels=labels, # axes will labeled with class names (if they exist) or ints\n",
        "         yticklabels=labels)\n",
        "\n",
        "    # Make x-axis labels appear on bottom\n",
        "    ax.xaxis.set_label_position(\"bottom\")\n",
        "    ax.xaxis.tick_bottom()\n",
        "    ### Added: Rotate xticks for readability & increase font size (required due to such a large confusion matrix)\n",
        "    plt.xticks(rotation=90, fontsize=text_size)\n",
        "    plt.yticks(fontsize=text_size)\n",
        "\n",
        "    # Set the threshold for different colors\n",
        "    threshold = (cm.max() + cm.min()) / 2.\n",
        "\n",
        "    # Plot the text on each cell\n",
        "    for i, j in itertools.product(range(cm.shape[0]), range(cm.shape[1])):\n",
        "        if norm:\n",
        "            plt.text(j, i, f\"{cm[i, j]} ({cm_norm[i, j]*100:.1f}%)\",\n",
        "                horizontalalignment=\"center\",\n",
        "                color=\"white\" if cm[i, j] > threshold else \"black\",\n",
        "                size=text_size)\n",
        "        else:\n",
        "            plt.text(j, i, f\"{cm[i, j]}\",\n",
        "              horizontalalignment=\"center\",\n",
        "              color=\"white\" if cm[i, j] > threshold else \"black\",\n",
        "              size=text_size)\n",
        "\n",
        "  # Save the figure to the current working directory\n",
        "    if savefig:\n",
        "        fig.savefig(\"confusion_matrix.png\")\n",
        "y_test = list(test_df.Label)\n",
        "make_confusion_matrix(y_test, pred, list(labels.values()))"
      ]
    },
    {
      "cell_type": "markdown",
      "id": "e6154ff9",
      "metadata": {
        "id": "e6154ff9",
        "papermill": {
          "duration": 0.144456,
          "end_time": "2023-04-26T13:39:30.113026",
          "exception": false,
          "start_time": "2023-04-26T13:39:29.968570",
          "status": "completed"
        },
        "tags": []
      },
      "source": [
        "# Grad-Cam Visualization"
      ]
    },
    {
      "cell_type": "code",
      "execution_count": null,
      "id": "85cfbbd8",
      "metadata": {
        "_kg_hide-input": true,
        "execution": {
          "iopub.execute_input": "2023-04-26T13:39:30.412952Z",
          "iopub.status.busy": "2023-04-26T13:39:30.411953Z",
          "iopub.status.idle": "2023-04-26T13:39:30.426017Z",
          "shell.execute_reply": "2023-04-26T13:39:30.425110Z"
        },
        "id": "85cfbbd8",
        "papermill": {
          "duration": 0.166805,
          "end_time": "2023-04-26T13:39:30.428172",
          "exception": false,
          "start_time": "2023-04-26T13:39:30.261367",
          "status": "completed"
        },
        "tags": []
      },
      "outputs": [],
      "source": [
        "\"\"\"\n",
        "Grad-CAM (Gradient-weighted Class Activation Mapping) visualizes the image regions most relevant to a neural network's prediction,\n",
        "showing where the model focused during decision-making.\n",
        "\"\"\"\n",
        "def get_img_array(img_path, size):\n",
        "    img = tf.keras.preprocessing.image.load_img(img_path, target_size=size)\n",
        "    array = tf.keras.preprocessing.image.img_to_array(img)\n",
        "    array = np.expand_dims(array, axis=0)\n",
        "    return array\n",
        "\n",
        "def make_gradcam_heatmap(img_array, model, last_conv_layer_name, pred_index=None):\n",
        "    grad_model = tf.keras.models.Model(\n",
        "        [model.inputs], [model.get_layer(last_conv_layer_name).output, model.output]\n",
        "    )\n",
        "\n",
        "    '''\n",
        "    We compute the gradient of the top predicted class for our input image\n",
        "    with respect to the activations of the last conv layer\n",
        "     '''\n",
        "    with tf.GradientTape() as tape:\n",
        "        last_conv_layer_output, preds = grad_model(img_array)\n",
        "        if pred_index is None:\n",
        "            pred_index = tf.argmax(preds[0])\n",
        "        class_channel = preds[:, pred_index]\n",
        "   \n",
        "    grads = tape.gradient(class_channel, last_conv_layer_output)\n",
        "    pooled_grads = tf.reduce_mean(grads, axis=(0, 1, 2))\n",
        "\n",
        "    last_conv_layer_output = last_conv_layer_output[0]\n",
        "    heatmap = last_conv_layer_output @ pooled_grads[..., tf.newaxis]\n",
        "    heatmap = tf.squeeze(heatmap)\n",
        "\n",
        "    # Normalize the heatmap between 0 & 1\n",
        "    heatmap = tf.maximum(heatmap, 0) / tf.math.reduce_max(heatmap)\n",
        "    return heatmap.numpy()\n",
        "def save_and_display_gradcam(img_path, heatmap, cam_path=\"cam.jpg\", alpha=0.4):\n",
        "    # Load the original image\n",
        "    img = tf.keras.preprocessing.image.load_img(img_path)\n",
        "    img = tf.keras.preprocessing.image.img_to_array(img)\n",
        "\n",
        "    heatmap = np.uint8(255 * heatmap)\n",
        "\n",
        "    jet = cm.get_cmap(\"jet\")\n",
        "\n",
        "    # Use RGB values of the colormap\n",
        "    jet_colors = jet(np.arange(256))[:, :3]\n",
        "    jet_heatmap = jet_colors[heatmap]\n",
        "\n",
        "    jet_heatmap = tf.keras.preprocessing.image.array_to_img(jet_heatmap)\n",
        "    jet_heatmap = jet_heatmap.resize((img.shape[1], img.shape[0]))\n",
        "    jet_heatmap = tf.keras.preprocessing.image.img_to_array(jet_heatmap)\n",
        "\n",
        "    # Superimpose the heatmap on original image\n",
        "    superimposed_img = jet_heatmap * alpha + img\n",
        "    superimposed_img = tf.keras.preprocessing.image.array_to_img(superimposed_img)\n",
        "    # Save the superimposed image\n",
        "    superimposed_img.save(cam_path)\n",
        "    return cam_path\n",
        "\n",
        "\n",
        "preprocess_input = tf.keras.applications.vgg19.preprocess_input\n",
        "decode_predictions = tf.keras.applications.vgg19.decode_predictions\n",
        "\n",
        "last_conv_layer_name = \"block5_conv4\"\n",
        "img_size = (224,224, 3)\n",
        "\n",
        "# Remove last layer's softmax\n",
        "model.layers[-1].activation = None"
      ]
    },
    {
      "cell_type": "code",
      "execution_count": null,
      "id": "1e2ae110",
      "metadata": {
        "execution": {
          "iopub.execute_input": "2023-04-26T13:39:30.723269Z",
          "iopub.status.busy": "2023-04-26T13:39:30.722692Z",
          "iopub.status.idle": "2023-04-26T13:39:34.024490Z",
          "shell.execute_reply": "2023-04-26T13:39:34.023598Z"
        },
        "id": "1e2ae110",
        "papermill": {
          "duration": 3.467654,
          "end_time": "2023-04-26T13:39:34.046006",
          "exception": false,
          "start_time": "2023-04-26T13:39:30.578352",
          "status": "completed"
        },
        "tags": []
      },
      "outputs": [],
      "source": [
        "# Display the part of the pictures used by the neural network to classify the pictures\n",
        "fig, axes = plt.subplots(nrows=3, ncols=5, figsize=(15, 10),\n",
        "                        subplot_kw={'xticks': [], 'yticks': []})\n",
        "\n",
        "for i, ax in enumerate(axes.flat):\n",
        "    img_path = test_df.Filepath.iloc[random_index[i]]\n",
        "    img_array = preprocess_input(get_img_array(img_path, size=img_size))\n",
        "    heatmap = make_gradcam_heatmap(img_array, model, last_conv_layer_name)\n",
        "    cam_path = save_and_display_gradcam(img_path, heatmap)\n",
        "    ax.imshow(plt.imread(cam_path))\n",
        "    ax.set_title(f\"True: {test_df.Label.iloc[random_index[i]]}\\nPredicted: {pred[random_index[i]]}\")\n",
        "plt.tight_layout()\n",
        "plt.show()"
      ]
    }
  ],
  "metadata": {
    "accelerator": "GPU",
    "colab": {
      "gpuType": "T4",
      "provenance": []
    },
    "kernelspec": {
      "display_name": "Python 3",
      "name": "python3"
    },
    "language_info": {
      "codemirror_mode": {
        "name": "ipython",
        "version": 3
      },
      "file_extension": ".py",
      "mimetype": "text/x-python",
      "name": "python",
      "nbconvert_exporter": "python",
      "pygments_lexer": "ipython3",
      "version": "3.7.12"
    },
    "papermill": {
      "default_parameters": {},
      "duration": 109.955534,
      "end_time": "2023-04-26T13:39:37.940836",
      "environment_variables": {},
      "exception": null,
      "input_path": "__notebook__.ipynb",
      "output_path": "__notebook__.ipynb",
      "parameters": {},
      "start_time": "2023-04-26T13:37:47.985302",
      "version": "2.4.0"
    }
  },
  "nbformat": 4,
  "nbformat_minor": 5
}
